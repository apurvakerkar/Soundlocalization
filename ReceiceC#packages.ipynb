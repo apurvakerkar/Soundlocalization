{
 "cells": [
  {
   "cell_type": "code",
   "execution_count": 2,
   "id": "b875d2c8",
   "metadata": {},
   "outputs": [
    {
     "name": "stdout",
     "output_type": "stream",
     "text": [
      "Received Coordinates: X: 1.23, Y: 4.56, Z: 7.89\n"
     ]
    }
   ],
   "source": [
    "import socket\n",
    "\n",
    "client = socket.socket(socket.AF_INET, socket.SOCK_STREAM)\n",
    "client.connect(('127.0.0.1', 12345))\n",
    "\n",
    "# Receive the coordinates from the C# application\n",
    "data = client.recv(1024)\n",
    "coordinates = data.decode('utf-8')\n",
    "\n",
    "print(\"Received Coordinates:\", coordinates)\n",
    "\n",
    "client.close()\n",
    "\n"
   ]
  },
  {
   "cell_type": "code",
   "execution_count": null,
   "id": "ad155df6",
   "metadata": {},
   "outputs": [],
   "source": []
  }
 ],
 "metadata": {
  "kernelspec": {
   "display_name": "Python 3 (ipykernel)",
   "language": "python",
   "name": "python3"
  },
  "language_info": {
   "codemirror_mode": {
    "name": "ipython",
    "version": 3
   },
   "file_extension": ".py",
   "mimetype": "text/x-python",
   "name": "python",
   "nbconvert_exporter": "python",
   "pygments_lexer": "ipython3",
   "version": "3.9.13"
  }
 },
 "nbformat": 4,
 "nbformat_minor": 5
}
